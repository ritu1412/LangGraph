{
 "cells": [
  {
   "cell_type": "markdown",
   "metadata": {},
   "source": [
    "# Simple Chatbot with Langgraph with LLM only"
   ]
  },
  {
   "cell_type": "code",
   "execution_count": 8,
   "metadata": {},
   "outputs": [],
   "source": [
    "import os\n",
    "import sys\n",
    "from langchain_groq import ChatGroq\n",
    "from typing import Annotated\n",
    "from typing_extensions import TypedDict\n",
    "from langgraph.graph import StateGraph,START,END\n",
    "from langgraph.graph.message import add_messages"
   ]
  },
  {
   "cell_type": "code",
   "execution_count": 2,
   "metadata": {},
   "outputs": [],
   "source": [
    "groq_api_key = os.getenv(\"GROQ_API_KEY\")\n",
    "langsmith_api_key = os.getenv(\"LANGCHAIN_API_KEY\")\n",
    "os.environ[\"LANGCHAIN_API_KEY\"] = langsmith_api_key\n",
    "os.environ[\"LANGCHAIN_TRACING_V2\"]=\"true\"\n",
    "os.environ[\"LANGCHAIN_PROJECT\"]=\"CourseLanggraph\""
   ]
  },
  {
   "cell_type": "markdown",
   "metadata": {},
   "source": [
    "Reason for using GROQ: Fast AI inference for openly-available models (Low latency)"
   ]
  },
  {
   "cell_type": "code",
   "execution_count": 7,
   "metadata": {},
   "outputs": [
    {
     "data": {
      "text/plain": [
       "ChatGroq(client=<groq.resources.chat.completions.Completions object at 0x1222af9a0>, async_client=<groq.resources.chat.completions.AsyncCompletions object at 0x1222bc6d0>, model_name='Gemma2-9b-It', model_kwargs={}, groq_api_key=SecretStr('**********'))"
      ]
     },
     "execution_count": 7,
     "metadata": {},
     "output_type": "execute_result"
    }
   ],
   "source": [
    "llm=ChatGroq(groq_api_key=groq_api_key,model_name=\"Gemma2-9b-It\")\n",
    "llm"
   ]
  },
  {
   "cell_type": "code",
   "execution_count": 9,
   "metadata": {},
   "outputs": [],
   "source": [
    "class State(TypedDict):\n",
    "  # Messages have the type \"list\". The `add_messages` function\n",
    "    # in the annotation defines how this state key should be updated\n",
    "    # (in this case, it appends messages to the list, rather than overwriting them)\n",
    "  messages:Annotated[list,add_messages]\n",
    "\n",
    "graph_builder=StateGraph(State)"
   ]
  },
  {
   "cell_type": "code",
   "execution_count": 10,
   "metadata": {},
   "outputs": [
    {
     "data": {
      "text/plain": [
       "<langgraph.graph.state.StateGraph at 0x1222bcbe0>"
      ]
     },
     "execution_count": 10,
     "metadata": {},
     "output_type": "execute_result"
    }
   ],
   "source": [
    "graph_builder"
   ]
  },
  {
   "cell_type": "code",
   "execution_count": 11,
   "metadata": {},
   "outputs": [],
   "source": [
    "def chatbot(state:State):\n",
    "  return {\"messages\":llm.invoke(state['messages'])}"
   ]
  },
  {
   "cell_type": "code",
   "execution_count": 12,
   "metadata": {},
   "outputs": [
    {
     "data": {
      "text/plain": [
       "<langgraph.graph.state.StateGraph at 0x1222bcbe0>"
      ]
     },
     "execution_count": 12,
     "metadata": {},
     "output_type": "execute_result"
    }
   ],
   "source": [
    "graph_builder.add_node(\"chatbot\",chatbot)"
   ]
  },
  {
   "cell_type": "code",
   "execution_count": 13,
   "metadata": {},
   "outputs": [
    {
     "data": {
      "text/plain": [
       "<langgraph.graph.state.StateGraph at 0x1222bcbe0>"
      ]
     },
     "execution_count": 13,
     "metadata": {},
     "output_type": "execute_result"
    }
   ],
   "source": [
    "graph_builder"
   ]
  },
  {
   "cell_type": "code",
   "execution_count": 14,
   "metadata": {},
   "outputs": [
    {
     "data": {
      "text/plain": [
       "<langgraph.graph.state.StateGraph at 0x1222bcbe0>"
      ]
     },
     "execution_count": 14,
     "metadata": {},
     "output_type": "execute_result"
    }
   ],
   "source": [
    "graph_builder.add_edge(START,\"chatbot\")\n",
    "graph_builder.add_edge(\"chatbot\",END)"
   ]
  },
  {
   "cell_type": "code",
   "execution_count": 15,
   "metadata": {},
   "outputs": [],
   "source": [
    "graph=graph_builder.compile()"
   ]
  },
  {
   "cell_type": "code",
   "execution_count": 16,
   "metadata": {},
   "outputs": [
    {
     "data": {
      "image/jpeg": "[encoded data removed]",
      "text/plain": [
       "<IPython.core.display.Image object>"
      ]
     },
     "metadata": {},
     "output_type": "display_data"
    }
   ],
   "source": [
    "from IPython.display import Image, display\n",
    "try:\n",
    "  display(Image(graph.get_graph().draw_mermaid_png()))\n",
    "except Exception:\n",
    "  pass"
   ]
  },
  {
   "cell_type": "code",
   "execution_count": 17,
   "metadata": {},
   "outputs": [
    {
     "name": "stdout",
     "output_type": "stream",
     "text": [
      "dict_values([{'messages': AIMessage(content='Hello! 👋 How can I help you today? 😊\\n', additional_kwargs={}, response_metadata={'token_usage': {'completion_tokens': 14, 'prompt_tokens': 10, 'total_tokens': 24, 'completion_time': 0.025454545, 'prompt_time': 4.3e-07, 'queue_time': 0.014505758, 'total_time': 0.025454975}, 'model_name': 'Gemma2-9b-It', 'system_fingerprint': 'fp_10c08bf97d', 'finish_reason': 'stop', 'logprobs': None}, id='run-a77921ea-db33-43a7-bba5-4f22fd76c2b2-0', usage_metadata={'input_tokens': 10, 'output_tokens': 14, 'total_tokens': 24})}])\n",
      "content='Hello! 👋 How can I help you today? 😊\\n' additional_kwargs={} response_metadata={'token_usage': {'completion_tokens': 14, 'prompt_tokens': 10, 'total_tokens': 24, 'completion_time': 0.025454545, 'prompt_time': 4.3e-07, 'queue_time': 0.014505758, 'total_time': 0.025454975}, 'model_name': 'Gemma2-9b-It', 'system_fingerprint': 'fp_10c08bf97d', 'finish_reason': 'stop', 'logprobs': None} id='run-a77921ea-db33-43a7-bba5-4f22fd76c2b2-0' usage_metadata={'input_tokens': 10, 'output_tokens': 14, 'total_tokens': 24}\n",
      "Assistant: Hello! 👋 How can I help you today? 😊\n",
      "\n",
      "dict_values([{'messages': AIMessage(content='## Understanding Self-Attention: A Spotlight on Importance\\n\\nImagine you\\'re reading a sentence: \"The cat sat on the mat.\"\\n\\nYour brain doesn\\'t process each word in isolation. You understand the meaning by paying attention to the relationships between words. For example, you know \"cat\" and \"sat\" are related, and \"mat\" is where the cat sat.\\n\\nSelf-attention allows AI models to do the same thing. It\\'s a mechanism that lets a model weigh the importance of different words in a sequence when processing information. \\n\\n**Here\\'s a breakdown:**\\n\\n1. **Query, Key, Value:** Each word in a sequence is represented as three vectors:\\n    - **Query:** Represents what the word is looking for.\\n    - **Key:** Represents what the word offers.\\n    - **Value:** Contains the actual information of the word.\\n\\n2. **Calculating Attention Scores:**\\n\\n   - The query of each word is compared to the keys of all other words in the sequence. This comparison generates attention scores, indicating how relevant each word is to the current word.\\n\\n3. **Weighted Sum:**\\n\\n   - The attention scores are normalized (converted to probabilities) and used to weight the values of all words. This creates a weighted sum, emphasizing the information from the most relevant words.\\n\\n4. **Contextualized Representation:**\\n\\n   - The weighted sum becomes the new representation of the word, enriched with context from related words.\\n\\n**Analogy:** Think of it like shining a spotlight on different parts of a sentence. The spotlight (attention) focuses on the most important words, highlighting their relevance to the current word.\\n\\n**Benefits of Self-Attention:**\\n\\n- **Captures Long-Range Dependencies:** Unlike traditional RNNs, self-attention can consider relationships between words that are far apart in a sequence.\\n- **Parallelizable:** Attention calculations can be performed in parallel, making training faster.\\n- **Interpretability:** Attention scores provide insights into which words are important for understanding a given context.\\n\\n**Applications:**\\n\\nSelf-attention is a key ingredient in many powerful AI models, including:\\n\\n- **Transformers:** The foundation of models like BERT, GPT-3, and T5, revolutionizing natural language processing.\\n- **Image Recognition:** Used in Vision Transformers (ViT) to analyze images by attending to different regions.\\n- **Speech Recognition:** Enhances the understanding of spoken language by focusing on relevant phonemes.\\n\\n\\n\\nLet me know if you\\'d like to dive deeper into a specific aspect of self-attention!\\n', additional_kwargs={}, response_metadata={'token_usage': {'completion_tokens': 535, 'prompt_tokens': 14, 'total_tokens': 549, 'completion_time': 0.972727273, 'prompt_time': 8.2279e-05, 'queue_time': 0.014468349, 'total_time': 0.972809552}, 'model_name': 'Gemma2-9b-It', 'system_fingerprint': 'fp_10c08bf97d', 'finish_reason': 'stop', 'logprobs': None}, id='run-f8fb2dd8-b68f-4e9b-b7a8-9141f5b68456-0', usage_metadata={'input_tokens': 14, 'output_tokens': 535, 'total_tokens': 549})}])\n",
      "content='## Understanding Self-Attention: A Spotlight on Importance\\n\\nImagine you\\'re reading a sentence: \"The cat sat on the mat.\"\\n\\nYour brain doesn\\'t process each word in isolation. You understand the meaning by paying attention to the relationships between words. For example, you know \"cat\" and \"sat\" are related, and \"mat\" is where the cat sat.\\n\\nSelf-attention allows AI models to do the same thing. It\\'s a mechanism that lets a model weigh the importance of different words in a sequence when processing information. \\n\\n**Here\\'s a breakdown:**\\n\\n1. **Query, Key, Value:** Each word in a sequence is represented as three vectors:\\n    - **Query:** Represents what the word is looking for.\\n    - **Key:** Represents what the word offers.\\n    - **Value:** Contains the actual information of the word.\\n\\n2. **Calculating Attention Scores:**\\n\\n   - The query of each word is compared to the keys of all other words in the sequence. This comparison generates attention scores, indicating how relevant each word is to the current word.\\n\\n3. **Weighted Sum:**\\n\\n   - The attention scores are normalized (converted to probabilities) and used to weight the values of all words. This creates a weighted sum, emphasizing the information from the most relevant words.\\n\\n4. **Contextualized Representation:**\\n\\n   - The weighted sum becomes the new representation of the word, enriched with context from related words.\\n\\n**Analogy:** Think of it like shining a spotlight on different parts of a sentence. The spotlight (attention) focuses on the most important words, highlighting their relevance to the current word.\\n\\n**Benefits of Self-Attention:**\\n\\n- **Captures Long-Range Dependencies:** Unlike traditional RNNs, self-attention can consider relationships between words that are far apart in a sequence.\\n- **Parallelizable:** Attention calculations can be performed in parallel, making training faster.\\n- **Interpretability:** Attention scores provide insights into which words are important for understanding a given context.\\n\\n**Applications:**\\n\\nSelf-attention is a key ingredient in many powerful AI models, including:\\n\\n- **Transformers:** The foundation of models like BERT, GPT-3, and T5, revolutionizing natural language processing.\\n- **Image Recognition:** Used in Vision Transformers (ViT) to analyze images by attending to different regions.\\n- **Speech Recognition:** Enhances the understanding of spoken language by focusing on relevant phonemes.\\n\\n\\n\\nLet me know if you\\'d like to dive deeper into a specific aspect of self-attention!\\n' additional_kwargs={} response_metadata={'token_usage': {'completion_tokens': 535, 'prompt_tokens': 14, 'total_tokens': 549, 'completion_time': 0.972727273, 'prompt_time': 8.2279e-05, 'queue_time': 0.014468349, 'total_time': 0.972809552}, 'model_name': 'Gemma2-9b-It', 'system_fingerprint': 'fp_10c08bf97d', 'finish_reason': 'stop', 'logprobs': None} id='run-f8fb2dd8-b68f-4e9b-b7a8-9141f5b68456-0' usage_metadata={'input_tokens': 14, 'output_tokens': 535, 'total_tokens': 549}\n",
      "Assistant: ## Understanding Self-Attention: A Spotlight on Importance\n",
      "\n",
      "Imagine you're reading a sentence: \"The cat sat on the mat.\"\n",
      "\n",
      "Your brain doesn't process each word in isolation. You understand the meaning by paying attention to the relationships between words. For example, you know \"cat\" and \"sat\" are related, and \"mat\" is where the cat sat.\n",
      "\n",
      "Self-attention allows AI models to do the same thing. It's a mechanism that lets a model weigh the importance of different words in a sequence when processing information. \n",
      "\n",
      "**Here's a breakdown:**\n",
      "\n",
      "1. **Query, Key, Value:** Each word in a sequence is represented as three vectors:\n",
      "    - **Query:** Represents what the word is looking for.\n",
      "    - **Key:** Represents what the word offers.\n",
      "    - **Value:** Contains the actual information of the word.\n",
      "\n",
      "2. **Calculating Attention Scores:**\n",
      "\n",
      "   - The query of each word is compared to the keys of all other words in the sequence. This comparison generates attention scores, indicating how relevant each word is to the current word.\n",
      "\n",
      "3. **Weighted Sum:**\n",
      "\n",
      "   - The attention scores are normalized (converted to probabilities) and used to weight the values of all words. This creates a weighted sum, emphasizing the information from the most relevant words.\n",
      "\n",
      "4. **Contextualized Representation:**\n",
      "\n",
      "   - The weighted sum becomes the new representation of the word, enriched with context from related words.\n",
      "\n",
      "**Analogy:** Think of it like shining a spotlight on different parts of a sentence. The spotlight (attention) focuses on the most important words, highlighting their relevance to the current word.\n",
      "\n",
      "**Benefits of Self-Attention:**\n",
      "\n",
      "- **Captures Long-Range Dependencies:** Unlike traditional RNNs, self-attention can consider relationships between words that are far apart in a sequence.\n",
      "- **Parallelizable:** Attention calculations can be performed in parallel, making training faster.\n",
      "- **Interpretability:** Attention scores provide insights into which words are important for understanding a given context.\n",
      "\n",
      "**Applications:**\n",
      "\n",
      "Self-attention is a key ingredient in many powerful AI models, including:\n",
      "\n",
      "- **Transformers:** The foundation of models like BERT, GPT-3, and T5, revolutionizing natural language processing.\n",
      "- **Image Recognition:** Used in Vision Transformers (ViT) to analyze images by attending to different regions.\n",
      "- **Speech Recognition:** Enhances the understanding of spoken language by focusing on relevant phonemes.\n",
      "\n",
      "\n",
      "\n",
      "Let me know if you'd like to dive deeper into a specific aspect of self-attention!\n",
      "\n",
      "dict_values([{'messages': AIMessage(content='Self-attention is a powerful mechanism in deep learning, particularly in the field of Natural Language Processing (NLP).  It allows a model to weigh the importance of different words in a sequence when processing information.\\n\\n**Imagine you\\'re reading a sentence:**\\n\\n\"The cat sat on the mat.\"\\n\\nSelf-attention helps the model understand that \"cat\" is related to \"sat\" and \"mat,\" but \"the\" is less directly related. It does this by calculating \"attention weights\" that indicate how much each word should influence the understanding of other words.\\n\\n**Here\\'s a breakdown:**\\n\\n1. **Query, Key, Value:** Each word in the sequence is represented as three vectors:\\n\\n   - **Query (Q):** Represents what the word is \"looking for\" in the sequence.\\n   - **Key (K):** Represents what information the word \"holds.\"\\n   - **Value (V):** Contains the actual information associated with the word.\\n\\n2. **Attention Scores:**  The model calculates a score for each pair of words based on how well their query and key vectors match. This score represents the \"attention\" paid by one word to another.\\n\\n3. **Softmax Normalization:** The attention scores are normalized using a softmax function, which transforms them into probabilities. This ensures that the weights sum up to 1, meaning each word\\'s contribution is proportionally distributed.\\n\\n4. **Weighted Sum:**  The values associated with each word are then weighted by the attention probabilities. This creates a context-aware representation of each word, taking into account its relationships with other words in the sequence.\\n\\n**Benefits of Self-Attention:**\\n\\n- **Captures Long-Range Dependencies:** Unlike traditional RNNs, self-attention can effectively process relationships between words that are far apart in a sequence.\\n- **Parallel Processing:**  Self-attention can be computed in parallel, making it more efficient than sequential models like RNNs.\\n- **Interpretability:** The attention weights provide insights into how the model is understanding the relationships between words.\\n\\n**Applications:**\\n\\nSelf-attention is widely used in:\\n\\n- **Machine Translation:**  Understanding the context of words in a sentence to accurately translate them.\\n- **Text Summarization:**  Identifying the most important words and phrases in a document.\\n- **Question Answering:**  Focusing on relevant information in a text to answer a specific question.\\n- **Chatbots:**  Generating more natural and context-aware responses.\\n\\n\\n\\nLet me know if you\\'d like a more technical explanation or have any other questions!\\n', additional_kwargs={}, response_metadata={'token_usage': {'completion_tokens': 533, 'prompt_tokens': 13, 'total_tokens': 546, 'completion_time': 0.969090909, 'prompt_time': 8.806e-05, 'queue_time': 0.013351409000000002, 'total_time': 0.969178969}, 'model_name': 'Gemma2-9b-It', 'system_fingerprint': 'fp_10c08bf97d', 'finish_reason': 'stop', 'logprobs': None}, id='run-0bb1ba04-9611-459d-b419-d431d13e8137-0', usage_metadata={'input_tokens': 13, 'output_tokens': 533, 'total_tokens': 546})}])\n",
      "content='Self-attention is a powerful mechanism in deep learning, particularly in the field of Natural Language Processing (NLP).  It allows a model to weigh the importance of different words in a sequence when processing information.\\n\\n**Imagine you\\'re reading a sentence:**\\n\\n\"The cat sat on the mat.\"\\n\\nSelf-attention helps the model understand that \"cat\" is related to \"sat\" and \"mat,\" but \"the\" is less directly related. It does this by calculating \"attention weights\" that indicate how much each word should influence the understanding of other words.\\n\\n**Here\\'s a breakdown:**\\n\\n1. **Query, Key, Value:** Each word in the sequence is represented as three vectors:\\n\\n   - **Query (Q):** Represents what the word is \"looking for\" in the sequence.\\n   - **Key (K):** Represents what information the word \"holds.\"\\n   - **Value (V):** Contains the actual information associated with the word.\\n\\n2. **Attention Scores:**  The model calculates a score for each pair of words based on how well their query and key vectors match. This score represents the \"attention\" paid by one word to another.\\n\\n3. **Softmax Normalization:** The attention scores are normalized using a softmax function, which transforms them into probabilities. This ensures that the weights sum up to 1, meaning each word\\'s contribution is proportionally distributed.\\n\\n4. **Weighted Sum:**  The values associated with each word are then weighted by the attention probabilities. This creates a context-aware representation of each word, taking into account its relationships with other words in the sequence.\\n\\n**Benefits of Self-Attention:**\\n\\n- **Captures Long-Range Dependencies:** Unlike traditional RNNs, self-attention can effectively process relationships between words that are far apart in a sequence.\\n- **Parallel Processing:**  Self-attention can be computed in parallel, making it more efficient than sequential models like RNNs.\\n- **Interpretability:** The attention weights provide insights into how the model is understanding the relationships between words.\\n\\n**Applications:**\\n\\nSelf-attention is widely used in:\\n\\n- **Machine Translation:**  Understanding the context of words in a sentence to accurately translate them.\\n- **Text Summarization:**  Identifying the most important words and phrases in a document.\\n- **Question Answering:**  Focusing on relevant information in a text to answer a specific question.\\n- **Chatbots:**  Generating more natural and context-aware responses.\\n\\n\\n\\nLet me know if you\\'d like a more technical explanation or have any other questions!\\n' additional_kwargs={} response_metadata={'token_usage': {'completion_tokens': 533, 'prompt_tokens': 13, 'total_tokens': 546, 'completion_time': 0.969090909, 'prompt_time': 8.806e-05, 'queue_time': 0.013351409000000002, 'total_time': 0.969178969}, 'model_name': 'Gemma2-9b-It', 'system_fingerprint': 'fp_10c08bf97d', 'finish_reason': 'stop', 'logprobs': None} id='run-0bb1ba04-9611-459d-b419-d431d13e8137-0' usage_metadata={'input_tokens': 13, 'output_tokens': 533, 'total_tokens': 546}\n",
      "Assistant: Self-attention is a powerful mechanism in deep learning, particularly in the field of Natural Language Processing (NLP).  It allows a model to weigh the importance of different words in a sequence when processing information.\n",
      "\n",
      "**Imagine you're reading a sentence:**\n",
      "\n",
      "\"The cat sat on the mat.\"\n",
      "\n",
      "Self-attention helps the model understand that \"cat\" is related to \"sat\" and \"mat,\" but \"the\" is less directly related. It does this by calculating \"attention weights\" that indicate how much each word should influence the understanding of other words.\n",
      "\n",
      "**Here's a breakdown:**\n",
      "\n",
      "1. **Query, Key, Value:** Each word in the sequence is represented as three vectors:\n",
      "\n",
      "   - **Query (Q):** Represents what the word is \"looking for\" in the sequence.\n",
      "   - **Key (K):** Represents what information the word \"holds.\"\n",
      "   - **Value (V):** Contains the actual information associated with the word.\n",
      "\n",
      "2. **Attention Scores:**  The model calculates a score for each pair of words based on how well their query and key vectors match. This score represents the \"attention\" paid by one word to another.\n",
      "\n",
      "3. **Softmax Normalization:** The attention scores are normalized using a softmax function, which transforms them into probabilities. This ensures that the weights sum up to 1, meaning each word's contribution is proportionally distributed.\n",
      "\n",
      "4. **Weighted Sum:**  The values associated with each word are then weighted by the attention probabilities. This creates a context-aware representation of each word, taking into account its relationships with other words in the sequence.\n",
      "\n",
      "**Benefits of Self-Attention:**\n",
      "\n",
      "- **Captures Long-Range Dependencies:** Unlike traditional RNNs, self-attention can effectively process relationships between words that are far apart in a sequence.\n",
      "- **Parallel Processing:**  Self-attention can be computed in parallel, making it more efficient than sequential models like RNNs.\n",
      "- **Interpretability:** The attention weights provide insights into how the model is understanding the relationships between words.\n",
      "\n",
      "**Applications:**\n",
      "\n",
      "Self-attention is widely used in:\n",
      "\n",
      "- **Machine Translation:**  Understanding the context of words in a sentence to accurately translate them.\n",
      "- **Text Summarization:**  Identifying the most important words and phrases in a document.\n",
      "- **Question Answering:**  Focusing on relevant information in a text to answer a specific question.\n",
      "- **Chatbots:**  Generating more natural and context-aware responses.\n",
      "\n",
      "\n",
      "\n",
      "Let me know if you'd like a more technical explanation or have any other questions!\n",
      "\n",
      "Good Bye\n"
     ]
    }
   ],
   "source": [
    "while True:\n",
    "  user_input=input(\"User: \")\n",
    "  if user_input.lower() in [\"quit\",\"q\"]:\n",
    "    print(\"Good Bye\")\n",
    "    break\n",
    "  for event in graph.stream({'messages':(\"user\",user_input)}):\n",
    "    print(event.values())\n",
    "    for value in event.values():\n",
    "      print(value['messages'])\n",
    "      print(\"Assistant:\",value[\"messages\"].content)"
   ]
  }
 ],
 "metadata": {
  "kernelspec": {
   "display_name": "env",
   "language": "python",
   "name": "python3"
  },
  "language_info": {
   "codemirror_mode": {
    "name": "ipython",
    "version": 3
   },
   "file_extension": ".py",
   "mimetype": "text/x-python",
   "name": "python",
   "nbconvert_exporter": "python",
   "pygments_lexer": "ipython3",
   "version": "3.9.6"
  }
 },
 "nbformat": 4,
 "nbformat_minor": 2
}
